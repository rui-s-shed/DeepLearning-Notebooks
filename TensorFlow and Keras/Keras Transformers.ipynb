{
 "cells": [
  {
   "cell_type": "markdown",
   "id": "fc8c3b9f",
   "metadata": {},
   "source": [
    "# Transformers\n"
   ]
  },
  {
   "cell_type": "markdown",
   "id": "2888b20a",
   "metadata": {},
   "source": [
    "- Encoder & Decoder\n",
    "- Self-attention mechanism\n",
    "- Muti-Head Attention\n",
    "- Normalization layer\n",
    "- Feedforward neural network\n",
    "- Residual connection\n",
    "- Positional Encoding (not covered)\n",
    "- "
   ]
  },
  {
   "cell_type": "markdown",
   "id": "7be0763a",
   "metadata": {},
   "source": [
    "# 1 Self-attention "
   ]
  },
  {
   "cell_type": "markdown",
   "id": "b2761a01",
   "metadata": {},
   "source": [
    "Enables each input word to attent to every other word - capture contexts and relationships more effectively.\n",
    "\n",
    "Each word will be captured by 3 vectors:\n",
    "- Query\n",
    "- Key\n",
    "- Value\n",
    "\n",
    "**Attention Score** = `Softmax(Query * Key  / sqrt(modelsize))`\n",
    "- Dot product of query and key\n",
    "- Used to weigh the value vectors (Attention_score * Value)\n",
    "- allows the model to focus on different parts of the input sequence when making predictions."
   ]
  },
  {
   "cell_type": "markdown",
   "id": "861bfa9c",
   "metadata": {},
   "source": []
  },
  {
   "cell_type": "code",
   "execution_count": 1,
   "id": "312960da",
   "metadata": {},
   "outputs": [
    {
     "name": "stdout",
     "output_type": "stream",
     "text": [
      "Output shape: (1, 60, 512)\n"
     ]
    }
   ],
   "source": [
    "# An example\n",
    "\n",
    "import tensorflow as tf\n",
    "from tensorflow.keras.layers import Layer\n",
    "\n",
    "# Define the Self-Attention mechanism\n",
    "class SelfAttention(Layer):\n",
    "    def __init__(self, d_model):\n",
    "        super(SelfAttention, self).__init__()\n",
    "        self.d_model = d_model\n",
    "        # Dense layers for Q, K, V projections\n",
    "        self.query_dense = tf.keras.layers.Dense(d_model)\n",
    "        self.key_dense = tf.keras.layers.Dense(d_model)\n",
    "        self.value_dense = tf.keras.layers.Dense(d_model)\n",
    "\n",
    "    def call(self, inputs):\n",
    "        # Compute the attention weights and apply them to the value vectors to get the output\n",
    "        q = self.query_dense(inputs)\n",
    "        k = self.key_dense(inputs)\n",
    "        v = self.value_dense(inputs)\n",
    "        # Attention scores = Softmax(Q * K^T / sqrt(d_model))\n",
    "        # where d_k is the dimension of the key vectors\n",
    "        attention_weights = tf.nn.softmax(tf.matmul(q, k, transpose_b=True) / tf.math.sqrt(tf.cast(self.d_model, tf.float32)), axis=-1)\n",
    "        output = tf.matmul(attention_weights, v)\n",
    "        return output\n",
    "\n",
    "# Example usage\n",
    "inputs = tf.random.uniform((1, 60, 512)) # Batch size of 1, sequence length of 60, and embedding dimension of 512\n",
    "self_attention_layer = SelfAttention(d_model=512)\n",
    "output = self_attention_layer(inputs)\n",
    "print(\"Output shape:\", output.shape)  # Should be (1, 60, 512)\n",
    "\n"
   ]
  },
  {
   "cell_type": "markdown",
   "id": "b64a566a",
   "metadata": {},
   "source": [
    "# 2 Encoder"
   ]
  },
  {
   "cell_type": "code",
   "execution_count": null,
   "id": "b301ccad",
   "metadata": {},
   "outputs": [],
   "source": [
    "# An examle\n",
    "import tensorflow as tf\n",
    "from tensorflow.keras.layers import Layer\n",
    "\n",
    "# Define a Transformer Encoder\n",
    "class TransformerEncoder(Layer):\n",
    "    def __init__():\n",
    "        super(TransformerEncoder, self).__init__()\n",
    "        \n",
    "        # Multi-head self-attention: applied to the input sequence\n",
    "        self.mha = tf.keras.layers.MultiHeadAttention(num_heads=8, key_dim=d_model)  # need to define d_model\n",
    "        self.ffn = tf.keras.Sequential([\n",
    "            tf.keras.layers.Dense(dff, activation='relu'),\n",
    "            tf.keras.layers,Dense(d_model)\n",
    "        ])\n",
    "\n",
    "        self.layernorm1 = tf.keras.layers.LayerNormalization(epsilon=1e-6)\n",
    "\n",
    "\n",
    "    def call():\n",
    "        return"
   ]
  }
 ],
 "metadata": {
  "kernelspec": {
   "display_name": "dlenv",
   "language": "python",
   "name": "python3"
  },
  "language_info": {
   "codemirror_mode": {
    "name": "ipython",
    "version": 3
   },
   "file_extension": ".py",
   "mimetype": "text/x-python",
   "name": "python",
   "nbconvert_exporter": "python",
   "pygments_lexer": "ipython3",
   "version": "3.12.9"
  }
 },
 "nbformat": 4,
 "nbformat_minor": 5
}
