{
 "cells": [
  {
   "cell_type": "markdown",
   "id": "fc8c3b9f",
   "metadata": {},
   "source": [
    "# Transformers\n"
   ]
  },
  {
   "cell_type": "markdown",
   "id": "2888b20a",
   "metadata": {},
   "source": [
    "- Encoder & Decoder\n",
    "- Self-attention mechanism\n",
    "- Muti-Head Attention\n",
    "- Layer Normalization\n",
    "- Feedforward neural network\n",
    "- Residual connection\n",
    "- Positional Encoding (not covered)\n",
    "- "
   ]
  },
  {
   "cell_type": "markdown",
   "id": "7be0763a",
   "metadata": {},
   "source": [
    "# 1 Self-attention "
   ]
  },
  {
   "cell_type": "markdown",
   "id": "b2761a01",
   "metadata": {},
   "source": [
    "Enables each input word to attent to every other word - capture contexts and relationships more effectively.\n",
    "\n",
    "Each word will be captured by 3 vectors:\n",
    "- Query\n",
    "- Key\n",
    "- Value\n",
    "\n",
    "**Attention Score** = `Softmax(Query * Key  / sqrt(modelsize))`\n",
    "- Dot product of query and key\n",
    "- Used to weigh the value vectors (Attention_score * Value)\n",
    "- allows the model to focus on different parts of the input sequence when making predictions."
   ]
  },
  {
   "cell_type": "markdown",
   "id": "861bfa9c",
   "metadata": {},
   "source": []
  },
  {
   "cell_type": "code",
   "execution_count": 1,
   "id": "312960da",
   "metadata": {},
   "outputs": [
    {
     "name": "stdout",
     "output_type": "stream",
     "text": [
      "Output shape: (1, 60, 512)\n"
     ]
    }
   ],
   "source": [
    "# An example\n",
    "\n",
    "import tensorflow as tf\n",
    "from tensorflow.keras.layers import Layer\n",
    "\n",
    "# Define the Self-Attention mechanism\n",
    "class SelfAttention(Layer):\n",
    "    def __init__(self, d_model):\n",
    "        super(SelfAttention, self).__init__()\n",
    "        self.d_model = d_model\n",
    "        # Dense layers for Q, K, V projections\n",
    "        self.query_dense = tf.keras.layers.Dense(d_model)\n",
    "        self.key_dense = tf.keras.layers.Dense(d_model)\n",
    "        self.value_dense = tf.keras.layers.Dense(d_model)\n",
    "\n",
    "    def call(self, inputs):\n",
    "        # Compute the attention weights and apply them to the value vectors to get the output\n",
    "        q = self.query_dense(inputs)\n",
    "        k = self.key_dense(inputs)\n",
    "        v = self.value_dense(inputs)\n",
    "        # Attention scores = Softmax(Q * K^T / sqrt(d_model))\n",
    "        # where d_k is the dimension of the key vectors\n",
    "        attention_weights = tf.nn.softmax(tf.matmul(q, k, transpose_b=True) / tf.math.sqrt(tf.cast(self.d_model, tf.float32)), axis=-1)\n",
    "        output = tf.matmul(attention_weights, v)\n",
    "        return output\n",
    "\n",
    "# Example usage\n",
    "inputs = tf.random.uniform((1, 60, 512)) # Batch size of 1, sequence length of 60, and embedding dimension of 512\n",
    "self_attention_layer = SelfAttention(d_model=512)\n",
    "output = self_attention_layer(inputs)\n",
    "print(\"Output shape:\", output.shape)  # Should be (1, 60, 512)\n",
    "\n"
   ]
  },
  {
   "cell_type": "markdown",
   "id": "b64a566a",
   "metadata": {},
   "source": [
    "# 2 Encoder"
   ]
  },
  {
   "cell_type": "code",
   "execution_count": null,
   "id": "b301ccad",
   "metadata": {},
   "outputs": [],
   "source": [
    "# An examle\n",
    "import tensorflow as tf\n",
    "from tensorflow.keras.layers import Layer\n",
    "\n",
    "# Define a Transformer Encoder\n",
    "class TransformerEncoder(Layer):\n",
    "    def __init__(self, d_model, num_heads, dff, rate=0.1):\n",
    "        super(TransformerEncoder, self).__init__()\n",
    "        \n",
    "        # Multi-head self-attention: applied to the input sequence\n",
    "        self.mha = tf.keras.layers.MultiHeadAttention(num_heads=8, key_dim=d_model)  # need to define d_model\n",
    "\n",
    "        # Feed-forward network: applied to the output of the self-attention layer\n",
    "        self.ffn = tf.keras.Sequential([\n",
    "            tf.keras.layers.Dense(dff, activation='relu'),  # dff is the dimension of the feed-forward network\n",
    "            tf.keras.layers,Dense(d_model)\n",
    "        ])\n",
    "\n",
    "        # Layer normalization: applied after the self-attention and feed-forward layers\n",
    "        self.layernorm1 = tf.keras.layers.LayerNormalization(epsilon=1e-6)\n",
    "        self.layernorm2 = tf.keras.layers.LayerNormalization(epsilon=1e-6)\n",
    "\n",
    "        # Dropout: applied after the self-attention, feed-forward and normalization layers\n",
    "        self.dropout1 = tf.keras.layers.Dropout(0.1)\n",
    "        self.dropout2 = tf.keras.layers.Dropout(0.1)\n",
    "\n",
    "\n",
    "    def call():\n",
    "        # Masked Multi-head Self-attention\n",
    "        attn_output = self.mha(x, x, x, attention_mask=mask)\n",
    "        # Dropout 1\n",
    "        attn_output = self.dropout1(attn_output, training=training)\n",
    "        # Add & Norm 1: residual connection and layer normalization\n",
    "        out1 = self.layernorm1(x + attn_output)\n",
    "\n",
    "        # Feed-forward network\n",
    "        ffn_output = self.ffn(out1)\n",
    "        # Dropout 2\n",
    "        ffn_output = self.dropout2(ffn_output, training=training)\n",
    "        # Add & Norm 2: residual connection and layer normalization\n",
    "        out2 = self.layernorm2(out1 + ffn_output)\n",
    "\n",
    "        return"
   ]
  },
  {
   "cell_type": "markdown",
   "id": "3b5aa23a",
   "metadata": {},
   "source": [
    "# 3 Decoder\n"
   ]
  },
  {
   "cell_type": "markdown",
   "id": "0e88ac86",
   "metadata": {},
   "source": [
    "Similar to encoder, but\n",
    "- additoinal cross-attention mechanism to attend to the encoders output\n",
    "  - generate sequences based on the context provided by the encoder\n",
    "\n",
    "Decoder takes the **target sequence** as input, applies self-attention and cross-attention with the **encoders output**, and then passes through a feed forward neural network."
   ]
  },
  {
   "cell_type": "code",
   "execution_count": null,
   "id": "de72002b",
   "metadata": {},
   "outputs": [],
   "source": [
    "# An example\n",
    "\n",
    "# Define a Transformer Decoder\n",
    "class TransformerDecoder(Layer):\n",
    "    def __init__(self, d_model, num_heads, dff, rate=0.1):\n",
    "        super(TransformerDecoder, self).__init__()\n",
    "        \n",
    "        # Multi-head self-attention: \n",
    "        # applied to the target sequence (input in this part) and the output of the encoder\n",
    "        self.mha1 = tf.keras.layers.MultiHeadAttention(num_heads=num_heads, key_dim=d_model)\n",
    "        self.mha2 = tf.keras.layers.MultiHeadAttention(num_heads=num_heads, key_dim=d_model)\n",
    "\n",
    "        # Feed-forward network\n",
    "        self.ffn = tf.keras.Sequential([\n",
    "            tf.keras.layers.Dense(dff, activation='relu'),\n",
    "            tf.keras.layers.Dense(d_model)\n",
    "        ])\n",
    "\n",
    "        # Residual connection & Layer Normalization\n",
    "        self.layernorm1 = tf.keras.layers.LayerNormalization(epsilon=1e-6)\n",
    "        self.layernorm2 = tf.keras.layers.LayerNormalization(epsilon=1e-6)\n",
    "        self.layernorm3 = tf.keras.layers.LayerNormalization(epsilon=1e-6)\n",
    "        self.dropout1 = tf.keras.layers.Dropout(rate)\n",
    "        self.dropout2 = tf.keras.layers.Dropout(rate)\n",
    "        \n",
    "    def call(self, x, \n",
    "             enc_output,  # output of the encoder\n",
    "             training,    # training or not\n",
    "             look_ahead_mask,  # mask for the target sequence\n",
    "             padding_mask):    # mask for the encoder output\n",
    "        \n",
    "        # Masked self attention - on Target Sequence\n",
    "        attn1 = self.mha1(x, x, x, attention_mask=look_ahead_mask)    \n",
    "        # Dropout\n",
    "        attn1 = self.dropout1(attn1, training=training) \n",
    "        # Add & Norm: Residual connection & Layer Normalization\n",
    "        out1 = self.layernorm1(x + attn1)\n",
    "\n",
    "        # Cross attention - Encoder output & Target Sequence attention\n",
    "        attn2 = self.mha1(out1, enc_output, enc_output, attention_mask=padding_mask)    \n",
    "        # Dropout\n",
    "        attn2 = self.dropout1(attn1, training=training) \n",
    "        # Add & Norm: Residual connection & Layer Normalization\n",
    "        out2 = self.layernorm1(out1 + attn2)\n",
    "\n",
    "        # Feed-forward network\n",
    "        ffn_output = self.ffn(out2)\n",
    "        ffn_output = self.dropout3(ffn_output, training=training)\n",
    "        # Add & Norm\n",
    "        out3 = self.layernorm3(out2 + ffn_output)\n",
    "\n",
    "        return out3\n"
   ]
  }
 ],
 "metadata": {
  "kernelspec": {
   "display_name": "dlenv",
   "language": "python",
   "name": "python3"
  },
  "language_info": {
   "codemirror_mode": {
    "name": "ipython",
    "version": 3
   },
   "file_extension": ".py",
   "mimetype": "text/x-python",
   "name": "python",
   "nbconvert_exporter": "python",
   "pygments_lexer": "ipython3",
   "version": "3.12.9"
  }
 },
 "nbformat": 4,
 "nbformat_minor": 5
}
