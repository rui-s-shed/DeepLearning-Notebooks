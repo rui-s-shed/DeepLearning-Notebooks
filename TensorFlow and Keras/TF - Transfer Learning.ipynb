{
 "cells": [
  {
   "cell_type": "markdown",
   "id": "5a75e7da",
   "metadata": {},
   "source": [
    "# Transfer Learning Using a Pre-Trained Model"
   ]
  },
  {
   "cell_type": "markdown",
   "id": "40f7d90e",
   "metadata": {},
   "source": [
    "```python\n",
    "ImageDataGenerator(rescale=1./255, validation_split=0.2)\n",
    "\n",
    "model.fit(...)\n",
    "```"
   ]
  },
  {
   "cell_type": "markdown",
   "id": "19856299",
   "metadata": {},
   "source": [
    "## Import libraries"
   ]
  },
  {
   "cell_type": "code",
   "execution_count": null,
   "id": "d56ce459",
   "metadata": {},
   "outputs": [],
   "source": [
    "# !pip install tensorflow==2.16.2 matplotlib==3.9.1\n",
    "# import numpy as np\n",
    "# import matplotlib.pyplot as plt\n",
    "# from tensorflow.keras.applications import VGG16\n",
    "# from tensorflow.keras.models import Sequential\n",
    "# from tensorflow.keras.layers import Dense, Flatten\n",
    "# from tensorflow.keras.preprocessing.image import ImageDataGenerator"
   ]
  },
  {
   "cell_type": "markdown",
   "id": "43e830e7",
   "metadata": {},
   "source": [
    "---"
   ]
  },
  {
   "cell_type": "markdown",
   "id": "e29b09ca",
   "metadata": {},
   "source": [
    "## 1 Load Pre-Trained Model"
   ]
  },
  {
   "cell_type": "markdown",
   "id": "f3a0527e",
   "metadata": {},
   "source": [
    "- `include_top=False`: 不加入顶层的fully connected layer \n",
    "- `layer.trainable=False`: 不trainable - 意思是，不要更新这些层的权重，**冻结这些层（冻结训练）**"
   ]
  },
  {
   "cell_type": "code",
   "execution_count": null,
   "id": "d59496f4",
   "metadata": {},
   "outputs": [],
   "source": [
    "# Load Pre-Trained VGG16 Model on ImageNet\n",
    "base_model = VGG16(weights='imagenet', include_top=False, input_shape=(224, 224, 3))\n",
    "\n",
    "# Freeze the base model layers\n",
    "for layer in base_model.layers:\n",
    "    layer.trainable = False"
   ]
  },
  {
   "cell_type": "markdown",
   "id": "1b5b38e0",
   "metadata": {},
   "source": [
    "## 2 Create and compile the model"
   ]
  },
  {
   "cell_type": "code",
   "execution_count": null,
   "id": "64c86916",
   "metadata": {},
   "outputs": [],
   "source": [
    "# Create a new model and add the base model and new layers\n",
    "model = Sequential([\n",
    "    base_model,\n",
    "    Flatten(),   # Flatten the output of the base model to a 1D vector\n",
    "    Dense(256, activation='relu'),\n",
    "    Dense(1, activation='sigmoid')  # Change to the number of classes you have\n",
    "])\n",
    "\n",
    "# Compile the model\n",
    "model.compile(loss='binary_crossentropy', optimizer='adam', metrics=['accuracy'])"
   ]
  },
  {
   "cell_type": "markdown",
   "id": "0da726d2",
   "metadata": {},
   "source": [
    "## 3 Create images"
   ]
  },
  {
   "cell_type": "code",
   "execution_count": null,
   "id": "93fdbb03",
   "metadata": {},
   "outputs": [],
   "source": [
    "import os\n",
    "from PIL import Image\n",
    "import numpy as np\n",
    "\n",
    "# Create directories if they don't exist\n",
    "os.makedirs('sample_data/Img2Classes/class_a', exist_ok=True)\n",
    "os.makedirs('sample_data/Img2Classes/class_b', exist_ok=True)\n",
    "\n",
    "# Create 10 sample images for each class\n",
    "for i in range(10):\n",
    "    # Create a blank white image for class_a\n",
    "    img = Image.fromarray(np.ones((224, 224, 3), dtype=np.uint8) * 255)\n",
    "    img.save(f'sample_data/Img2Classes/class_a/img_{i}.jpg')\n",
    "\n",
    "    # Create a blank black image for class_b\n",
    "    img = Image.fromarray(np.zeros((224, 224, 3), dtype=np.uint8))\n",
    "    img.save(f'sample_data/Img2Classes/class_b/img_{i}.jpg')\n",
    "\n",
    "print(\"Sample images created in 'sample_data/'\")"
   ]
  },
  {
   "cell_type": "markdown",
   "id": "b506cc5d",
   "metadata": {},
   "source": [
    "## 4 Train the model"
   ]
  },
  {
   "cell_type": "code",
   "execution_count": null,
   "id": "c497b045",
   "metadata": {},
   "outputs": [],
   "source": [
    "# Load and preprocess the dataset\n",
    "train_datagen = ImageDataGenerator(rescale=1./255)\n",
    "train_generator = train_datagen.flow_from_directory(\n",
    "    'sample_data',\n",
    "    target_size=(224, 224),\n",
    "    batch_size=32,\n",
    "    class_mode='binary'\n",
    ")\n",
    "\n",
    "# Verify if the generator has loaded images correctly\n",
    "print(f\"Found {train_generator.samples} images belonging to {train_generator.num_classes} classes.\")\n",
    "\n",
    "# Train the model\n",
    "if train_generator.samples > 0:\n",
    "    model.fit(train_generator, epochs=10)"
   ]
  },
  {
   "cell_type": "markdown",
   "id": "c94006c3",
   "metadata": {},
   "source": [
    "## 5 Fine-Tune the model"
   ]
  },
  {
   "cell_type": "markdown",
   "id": "660b7217",
   "metadata": {},
   "source": [
    "Unfreeze the top layers of the base model and fine-tune."
   ]
  },
  {
   "cell_type": "code",
   "execution_count": null,
   "id": "fa912854",
   "metadata": {},
   "outputs": [],
   "source": [
    "# Unfreeze the top layers of the base model \n",
    "\n",
    "for layer in base_model.layers[-4:]:\n",
    "    layer.trainable = True \n",
    "\n",
    "# Compile the model again \n",
    "model.compile(optimizer='adam', loss='binary_crossentropy', metrics=['accuracy']) \n",
    "\n",
    "# Train the model again \n",
    "model.fit(train_generator, epochs=10) "
   ]
  },
  {
   "cell_type": "code",
   "execution_count": null,
   "id": "713b6bd9",
   "metadata": {},
   "outputs": [],
   "source": []
  },
  {
   "cell_type": "markdown",
   "id": "821f4d86",
   "metadata": {},
   "source": []
  }
 ],
 "metadata": {
  "language_info": {
   "name": "python"
  }
 },
 "nbformat": 4,
 "nbformat_minor": 5
}
