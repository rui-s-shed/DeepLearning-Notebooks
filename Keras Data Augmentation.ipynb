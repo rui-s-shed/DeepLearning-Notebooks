{
 "cells": [
  {
   "cell_type": "markdown",
   "id": "aad5ba43",
   "metadata": {},
   "source": [
    "# Data Augmentation"
   ]
  },
  {
   "cell_type": "markdown",
   "id": "89fcc001",
   "metadata": {},
   "source": [
    "Basic Techniques:\n",
    "- Rotation\n",
    "- Translation\n",
    "- Flipping\n",
    "- Scaling\n",
    "- Adding noise"
   ]
  },
  {
   "cell_type": "markdown",
   "id": "9d5fc749",
   "metadata": {},
   "source": [
    "## Install and import libraries"
   ]
  },
  {
   "cell_type": "markdown",
   "id": "730685aa",
   "metadata": {},
   "source": [
    "For data augmentation using Keras, the `tensorflow.keras.preprocessing.image.ImageDataGenerator` class will be used."
   ]
  },
  {
   "cell_type": "code",
   "execution_count": null,
   "id": "0ed889a7",
   "metadata": {},
   "outputs": [],
   "source": [
    "# !pip install tensorflow==2.16.2 matplotlib==3.9.1 scipy\n",
    "\n",
    "import tensorflow as tf\n",
    "import numpy as np\n",
    "import matplotlib.pyplot as plt\n",
    "from tensorflow.keras.preprocessing.image import ImageDataGenerator， load_img, img_to_array, array_to_img"
   ]
  },
  {
   "cell_type": "code",
   "execution_count": null,
   "id": "4c1c6b97",
   "metadata": {},
   "outputs": [],
   "source": [
    "# Other important things for Image processing\n",
    "\n",
    "# the Pillow library is used for image processing)\n",
    "# !pip install Pillow  # for PIL lib\n",
    "from PIL import Image, ImageDraw\n",
    "\n",
    "# Load CIFAR-10 dataset for training images\n",
    "(x_train, y_train), (x_test, y_test) = tf.keras.datasets.cifar10.load_data()\n"
   ]
  },
  {
   "cell_type": "markdown",
   "id": "36610515",
   "metadata": {},
   "source": [
    "---"
   ]
  },
  {
   "cell_type": "markdown",
   "id": "7821984a",
   "metadata": {},
   "source": [
    "## Use `ImageDataGenerator()` for data autmentation"
   ]
  },
  {
   "cell_type": "markdown",
   "id": "e1a9cd28",
   "metadata": {},
   "source": [
    "Here is how it's often used.\n",
    "\n",
    "```python\n",
    "\n",
    "# Custom augmentation function\n",
    "def add_random_noise(image):\n",
    "    noise = np.random.normal(0, 0.1, image.shape)\n",
    "    return image + noise\n",
    "\n",
    "datagen = ImageDataGenerator(\n",
    "    # Basic augmentation\n",
    "    rotation_range=40,\n",
    "    width_shift_range=0.2,\n",
    "    height_shift_range=0.2,\n",
    "    shear_range=0.2,\n",
    "    zoom_range=0.2,\n",
    "    horizontal_flip=True,\n",
    "    fill_mode='nearest',\n",
    "\n",
    "    # Normalization \n",
    "    featurewise_center=True,\n",
    "    featurewise_std_normalization=True,\n",
    "    samplewise_center=True,\n",
    "    samplewise_std_normalization=True\n",
    "\n",
    "    # Custom augmentation\n",
    "    preprocessing_function=add_random_noise\n",
    "\n",
    ")\n",
    "\n",
    "x = np.expand_dims(img_to_array(load_img('img_path')), axis=0)\n",
    "\n",
    "# Load the training set sample image, fit the generator\n",
    "# When using Normalization\n",
    "datagen.fit(x)\n",
    "\n",
    "# Generate batches of augmented images\n",
    "datagen.flow(x, batch_size=1)\n",
    "\n",
    "\n",
    "```"
   ]
  },
  {
   "cell_type": "code",
   "execution_count": null,
   "id": "82481799",
   "metadata": {},
   "outputs": [],
   "source": []
  },
  {
   "cell_type": "markdown",
   "id": "38d5ab88",
   "metadata": {},
   "source": [
    "## Visualization of the augmented images"
   ]
  },
  {
   "cell_type": "code",
   "execution_count": null,
   "id": "b346d143",
   "metadata": {},
   "outputs": [],
   "source": [
    "# Generate batches of augmented images with noise\n",
    "i = 0\n",
    "for batch in datagen.flow(x, batch_size=1):\n",
    "    plt.figure(i)\n",
    "    imgplot = plt.imshow(batch[0].astype('uint8'))\n",
    "    i += 1\n",
    "    if i % 4 == 0:\n",
    "        break\n",
    "\n",
    "plt.show()"
   ]
  },
  {
   "cell_type": "code",
   "execution_count": null,
   "id": "4dd9a7de",
   "metadata": {},
   "outputs": [],
   "source": [
    "# Visualizing multiple augmented versions of the same image\n",
    "plt.figure(figsize=(10, 10))\n",
    "for i, batch in enumerate(datagen.flow(x, batch_size=1)):\n",
    "    if i >= 4:  # Show only 4 versions\n",
    "        break\n",
    "    plt.subplot(2, 2, i+1)\n",
    "    plt.imshow(batch[0].astype('uint8'))\n",
    "plt.show()"
   ]
  }
 ],
 "metadata": {
  "kernelspec": {
   "display_name": "dlenv",
   "language": "python",
   "name": "python3"
  },
  "language_info": {
   "codemirror_mode": {
    "name": "ipython",
    "version": 3
   },
   "file_extension": ".py",
   "mimetype": "text/x-python",
   "name": "python",
   "nbconvert_exporter": "python",
   "pygments_lexer": "ipython3",
   "version": "3.12.9"
  }
 },
 "nbformat": 4,
 "nbformat_minor": 5
}
