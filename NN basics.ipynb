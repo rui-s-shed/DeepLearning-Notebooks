{
 "cells": [
  {
   "cell_type": "markdown",
   "id": "e66da5e6-e7ee-43cf-9e75-755a9495bb31",
   "metadata": {},
   "source": [
    "# Multi-Layer Perceptron and Basics"
   ]
  },
  {
   "cell_type": "markdown",
   "id": "1b3deb5f-608c-42b8-b087-ed82505e38a8",
   "metadata": {},
   "source": [
    "## 1 Forward Propagation 前向传播"
   ]
  },
  {
   "cell_type": "markdown",
   "id": "5bb38f61-dd04-406e-8148-5404ef365029",
   "metadata": {},
   "source": [
    "Simple steps to make a prediction:\n",
    "1. Intialize the weights and baises (randomly assign numbers)\n",
    "2. Compute weighted sum at each node\n",
    "3. Compute node activation\n",
    "4. Use Forward Propagation to propagate data"
   ]
  },
  {
   "cell_type": "markdown",
   "id": "6d250b2d-d365-415d-a83e-5f3a9c4cada6",
   "metadata": {},
   "source": [
    "<img src=\"http://cocl.us/neural_network_example\" alt=\"Neural Network Example\" width=\"600px\">"
   ]
  },
  {
   "cell_type": "code",
   "execution_count": 3,
   "id": "a315ccb7-744a-4905-9938-a9f9697d042e",
   "metadata": {},
   "outputs": [
    {
     "name": "stdout",
     "output_type": "stream",
     "text": [
      "Collecting numpy==1.26.4\n",
      "  Obtaining dependency information for numpy==1.26.4 from https://files.pythonhosted.org/packages/3f/6b/5610004206cf7f8e7ad91c5a85a8c71b2f2f8051a0c0c4d5916b76d6cbb2/numpy-1.26.4-cp311-cp311-win_amd64.whl.metadata\n",
      "  Downloading numpy-1.26.4-cp311-cp311-win_amd64.whl.metadata (61 kB)\n",
      "     ---------------------------------------- 0.0/61.0 kB ? eta -:--:--\n",
      "     ------ --------------------------------- 10.2/61.0 kB ? eta -:--:--\n",
      "     ------------------- ------------------ 30.7/61.0 kB 262.6 kB/s eta 0:00:01\n",
      "     ------------------------------- ------ 51.2/61.0 kB 375.8 kB/s eta 0:00:01\n",
      "     -------------------------------------- 61.0/61.0 kB 360.3 kB/s eta 0:00:00\n",
      "Downloading numpy-1.26.4-cp311-cp311-win_amd64.whl (15.8 MB)\n",
      "   ---------------------------------------- 0.0/15.8 MB ? eta -:--:--\n",
      "   ---------------------------------------- 0.1/15.8 MB 1.6 MB/s eta 0:00:10\n",
      "   ---------------------------------------- 0.1/15.8 MB 1.7 MB/s eta 0:00:10\n",
      "    --------------------------------------- 0.3/15.8 MB 2.5 MB/s eta 0:00:07\n",
      "   - -------------------------------------- 0.7/15.8 MB 3.8 MB/s eta 0:00:05\n",
      "   -- ------------------------------------- 1.1/15.8 MB 4.9 MB/s eta 0:00:04\n",
      "   -- ------------------------------------- 1.1/15.8 MB 4.9 MB/s eta 0:00:04\n",
      "   -- ------------------------------------- 1.1/15.8 MB 3.6 MB/s eta 0:00:05\n",
      "   --- ------------------------------------ 1.5/15.8 MB 4.2 MB/s eta 0:00:04\n",
      "   ---- ----------------------------------- 1.9/15.8 MB 4.7 MB/s eta 0:00:03\n",
      "   ----- ---------------------------------- 2.3/15.8 MB 5.3 MB/s eta 0:00:03\n",
      "   ------ --------------------------------- 2.7/15.8 MB 5.6 MB/s eta 0:00:03\n",
      "   ------- -------------------------------- 3.1/15.8 MB 5.8 MB/s eta 0:00:03\n",
      "   -------- ------------------------------- 3.5/15.8 MB 6.0 MB/s eta 0:00:03\n",
      "   --------- ------------------------------ 3.9/15.8 MB 6.2 MB/s eta 0:00:02\n",
      "   ---------- ----------------------------- 4.3/15.8 MB 6.4 MB/s eta 0:00:02\n",
      "   ----------- ---------------------------- 4.7/15.8 MB 6.6 MB/s eta 0:00:02\n",
      "   ------------ --------------------------- 5.1/15.8 MB 6.6 MB/s eta 0:00:02\n",
      "   ------------- -------------------------- 5.5/15.8 MB 6.8 MB/s eta 0:00:02\n",
      "   --------------- ------------------------ 6.0/15.8 MB 6.9 MB/s eta 0:00:02\n",
      "   ---------------- ----------------------- 6.4/15.8 MB 7.1 MB/s eta 0:00:02\n",
      "   ----------------- ---------------------- 6.9/15.8 MB 7.2 MB/s eta 0:00:02\n",
      "   ------------------ --------------------- 7.2/15.8 MB 7.2 MB/s eta 0:00:02\n",
      "   ------------------- -------------------- 7.6/15.8 MB 7.3 MB/s eta 0:00:02\n",
      "   -------------------- ------------------- 8.1/15.8 MB 7.4 MB/s eta 0:00:02\n",
      "   --------------------- ------------------ 8.5/15.8 MB 7.5 MB/s eta 0:00:01\n",
      "   ---------------------- ----------------- 9.0/15.8 MB 7.5 MB/s eta 0:00:01\n",
      "   ----------------------- ---------------- 9.4/15.8 MB 7.6 MB/s eta 0:00:01\n",
      "   ------------------------ --------------- 9.8/15.8 MB 7.6 MB/s eta 0:00:01\n",
      "   ------------------------- -------------- 10.3/15.8 MB 7.7 MB/s eta 0:00:01\n",
      "   --------------------------- ------------ 10.7/15.8 MB 8.3 MB/s eta 0:00:01\n",
      "   --------------------------- ------------ 11.1/15.8 MB 8.4 MB/s eta 0:00:01\n",
      "   ---------------------------- ----------- 11.4/15.8 MB 9.0 MB/s eta 0:00:01\n",
      "   ----------------------------- ---------- 11.9/15.8 MB 9.0 MB/s eta 0:00:01\n",
      "   ------------------------------- -------- 12.3/15.8 MB 9.0 MB/s eta 0:00:01\n",
      "   ------------------------------- -------- 12.6/15.8 MB 9.0 MB/s eta 0:00:01\n",
      "   --------------------------------- ------ 13.1/15.8 MB 9.0 MB/s eta 0:00:01\n",
      "   ---------------------------------- ----- 13.4/15.8 MB 9.0 MB/s eta 0:00:01\n",
      "   ----------------------------------- ---- 13.9/15.8 MB 9.1 MB/s eta 0:00:01\n",
      "   ------------------------------------ --- 14.3/15.8 MB 9.1 MB/s eta 0:00:01\n",
      "   ------------------------------------- -- 14.7/15.8 MB 9.0 MB/s eta 0:00:01\n",
      "   -------------------------------------- - 15.2/15.8 MB 9.1 MB/s eta 0:00:01\n",
      "   ---------------------------------------  15.6/15.8 MB 9.1 MB/s eta 0:00:01\n",
      "   ---------------------------------------  15.8/15.8 MB 9.0 MB/s eta 0:00:01\n",
      "   ---------------------------------------- 15.8/15.8 MB 8.5 MB/s eta 0:00:00\n",
      "Installing collected packages: numpy\n",
      "  Attempting uninstall: numpy\n",
      "    Found existing installation: numpy 1.24.3\n",
      "    Uninstalling numpy-1.24.3:\n",
      "      Successfully uninstalled numpy-1.24.3\n"
     ]
    },
    {
     "name": "stderr",
     "output_type": "stream",
     "text": [
      "ERROR: Could not install packages due to an OSError: [WinError 5] 拒绝访问。: 'C:\\\\Users\\\\rui-s\\\\anaconda3\\\\Lib\\\\site-packages\\\\~umpy\\\\core\\\\_multiarray_tests.cp311-win_amd64.pyd'\n",
      "Consider using the `--user` option or check the permissions.\n",
      "\n"
     ]
    }
   ],
   "source": [
    "# Install necessary libraries\n",
    "\n",
    "!pip install numpy==1.26.4"
   ]
  },
  {
   "cell_type": "code",
   "execution_count": 4,
   "id": "d72689ba-cf0a-4213-a97a-1fb91b9bbee3",
   "metadata": {},
   "outputs": [],
   "source": [
    "# Import libraries\n",
    "\n",
    "import numpy as np"
   ]
  },
  {
   "cell_type": "markdown",
   "id": "b2934b53-97a9-40b3-acaa-0f4938d7e902",
   "metadata": {},
   "source": [
    "### 1.1 给Weights和Biases随机取值：</br>\n",
    "np.random.uniform(low, high, size)从均匀分布的区域[low, high)中随机取样\n",
    "\n",
    "1. low：采样区域的下界，float类型或者int类型或者数组类型或者迭代类型，默认值为0 \n",
    "2. high：采样区域的上界，float类型或者int类型或者数组类型或者迭代类型，默认值为1 \n",
    "3. size：输出样本的数目(int类型或者tuple类型或者迭代类型) \n",
    "4. 返回对象：ndarray类型，形状和size中的数值一样"
   ]
  },
  {
   "cell_type": "code",
   "execution_count": 5,
   "id": "a715fa9d-b99a-4502-a6bf-f43eb623c2ee",
   "metadata": {},
   "outputs": [
    {
     "name": "stdout",
     "output_type": "stream",
     "text": [
      "Weights:  [0.   0.47 0.06 0.03 0.17 0.54]\n",
      "Biases:  [0.33 0.37 0.58]\n"
     ]
    }
   ],
   "source": [
    "# Initialize the weights and biases by randomly generating numbers \n",
    "# Here: sample from an Uniformly distributed space in [0, 1)\n",
    "\n",
    "weights = np.around(np.random.uniform(size=6), decimals=2) # initialize the weights\n",
    "biases = np.around(np.random.uniform(size=3), decimals=2) # initialize the biases\n",
    "\n",
    "print(\"Weights: \", weights)\n",
    "print(\"Biases: \", biases)"
   ]
  },
  {
   "cell_type": "markdown",
   "id": "bfd5bb86",
   "metadata": {},
   "source": [
    "## 1.2 用上面的权重和偏差计算预测值\n",
    "Compute the output for a given input, $x_1$ and $x_2$. </br>\n",
    "Given: $x_1 = 0.5$ , $x_2 = 0.85$"
   ]
  },
  {
   "cell_type": "code",
   "execution_count": 6,
   "id": "4f4c46ac",
   "metadata": {},
   "outputs": [
    {
     "name": "stdout",
     "output_type": "stream",
     "text": [
      "x1 is 0.5 and x2 is 0.85\n",
      "The weighted sum of the inputs at the first node in the hidden layer is 0.7295\n",
      "The weighted sum of the inputs at the second node in the hidden layer is 0.4255\n"
     ]
    }
   ],
   "source": [
    "x_1 = 0.5 # input 1\n",
    "x_2 = 0.85 # input 2\n",
    "print('x1 is {} and x2 is {}'.format(x_1, x_2))\n",
    "\n",
    "# Compute the weighted sum of inputs for the nodes of the hidden layer\n",
    "\n",
    "z_11 = x_1 * weights[0] + x_2 * weights[1] + biases[0]\n",
    "print('The weighted sum of the inputs at the first node in the hidden layer is {}'.format(z_11))\n",
    "\n",
    "z_12 = x_1 * weights[2] + x_2 * weights[3] + biases[1]\n",
    "print('The weighted sum of the inputs at the second node in the hidden layer is {}'.format(np.around(z_12, decimals=4)))"
   ]
  },
  {
   "cell_type": "markdown",
   "id": "a0d0f882",
   "metadata": {},
   "source": [
    "Assuming a sigmoid activation function, compute the activated values for the nodes."
   ]
  },
  {
   "cell_type": "code",
   "execution_count": 7,
   "id": "1e3a94bd",
   "metadata": {},
   "outputs": [
    {
     "name": "stdout",
     "output_type": "stream",
     "text": [
      "The activation of the first node in the hidden layer is 0.6747\n",
      "The activation of the second node in the hidden layer is 0.6048\n"
     ]
    }
   ],
   "source": [
    "a_11 = 1.0 / (1.0 + np.exp(-z_11))\n",
    "print('The activation of the first node in the hidden layer is {}'.format(np.around(a_11, decimals=4)))\n",
    "\n",
    "a_12 = 1.0 / (1.0 + np.exp(-z_12))\n",
    "print('The activation of the second node in the hidden layer is {}'.format(np.around(a_12, decimals=4)))"
   ]
  },
  {
   "cell_type": "markdown",
   "id": "68cd6afa",
   "metadata": {},
   "source": [
    "Compute the output of the network as the activation of the node in the output layer."
   ]
  },
  {
   "cell_type": "code",
   "execution_count": 9,
   "id": "6da67e9a",
   "metadata": {},
   "outputs": [
    {
     "name": "stdout",
     "output_type": "stream",
     "text": [
      "The weighted sum of the inputs at the node in the output layer is 1.0213\n",
      "The output of the network for x1 = 0.5 and x2 = 0.85 is 0.7352\n"
     ]
    }
   ],
   "source": [
    "z_2 = a_11 * weights[4] + a_12 * weights[5] + biases[2]\n",
    "print('The weighted sum of the inputs at the node in the output layer is {}'.format(np.around(z_2, decimals=4)))\n",
    "\n",
    "a_2 = 1.0 / (1.0 + np.exp(-z_2))\n",
    "print('The output of the network for x1 = 0.5 and x2 = 0.85 is {}'.format(np.around(a_2, decimals=4)))"
   ]
  },
  {
   "cell_type": "markdown",
   "id": "3185a5ed",
   "metadata": {},
   "source": [
    "## 1.3 Generalize the network "
   ]
  },
  {
   "cell_type": "markdown",
   "id": "652aeeba",
   "metadata": {},
   "source": [
    "Obviously, neural networks for real problems are composed of many hidden layers and many more nodes in each layer. So, we can't continue making predictions using this very inefficient approach of computing the weighted sum at each node and the activation of each node manually.\n",
    "</br>\n",
    "We can code an automatic way of making predictions.</br>\n",
    "\n",
    "A general network would take $n$ inputs, would have many hidden layers, each hidden layer having $m$ nodes, and would have an output layer. \n",
    "\n",
    "Although the network is showing one hidden layer, but we will code the network to have many hidden layers. Similarly, although the network shows an output layer with one node, we will code the network to have more than one node in the output layer."
   ]
  },
  {
   "cell_type": "markdown",
   "id": "29d9cf70",
   "metadata": {},
   "source": [
    "<img src=\"http://cocl.us/general_neural_network\" alt=\"Neural Network General\" width=\"400px\">"
   ]
  },
  {
   "cell_type": "markdown",
   "id": "be1c4d3b",
   "metadata": {},
   "source": [
    "### Build the network "
   ]
  },
  {
   "cell_type": "markdown",
   "id": "d2dfe91d",
   "metadata": {},
   "source": [
    "Formally defining the structure of the network"
   ]
  },
  {
   "cell_type": "code",
   "execution_count": 14,
   "id": "faacd292",
   "metadata": {},
   "outputs": [],
   "source": [
    "# Define the structure of hte network\n",
    "\n",
    "n = 2                    # number of inputs\n",
    "num_hidden_layers = 2    # number of hidden layers\n",
    "m = [2, 2]               # number of nodes in each hidden layer\n",
    "num_nodes_output = 1     # number of nodes in the output layer"
   ]
  },
  {
   "cell_type": "markdown",
   "id": "cf5f83fb",
   "metadata": {},
   "source": [
    "Initialize the weights and biases in the network to random numbers.\n",
    "\n",
    "The logic is:\n",
    "1. To calculate the weights and biases, we need to know how many numbers to generate - which depends on the number of nodes on each layer\n",
    "2. Fully connected layers: Weights are needed for each node in one layer corresponding with each node in the previous layer\n",
    "    1. We can traverse each layer, from 1st hidden layer -> the output layer\n",
    "    2. Num of weights: num of nodes of previous layer (from input -> the last hidden layer)\n",
    "    3. Num of biases: numb of nodes of current layer (from 1st hidden layer -> output layer)\n",
    "    "
   ]
  },
  {
   "cell_type": "code",
   "execution_count": 18,
   "id": "19c3a998",
   "metadata": {},
   "outputs": [
    {
     "name": "stdout",
     "output_type": "stream",
     "text": [
      "{'node_1': {'node_1': {'weights': array([0.38, 0.28]), 'biases': array([0.47])}, 'node_2': {'weights': array([0.09, 0.96]), 'biases': array([0.04])}}, 'node_2': {'node_1': {'weights': array([0.85, 0.34]), 'biases': array([0.64])}, 'node_2': {'weights': array([0.45, 0.62]), 'biases': array([0.53])}}, 'output': {'node_1': {'weights': array([0.33, 0.3 ]), 'biases': array([0.7])}}}\n"
     ]
    }
   ],
   "source": [
    "import numpy as np\n",
    "\n",
    "\n",
    "num_nodes_previous = n      # number of nodes in the previous layer, initialized by input nodes\n",
    "\n",
    "network = {}                # initialize network in an empty dictionary\n",
    "\n",
    "# Loop through each layer and randomly initialize the weights and biases associated with each node\n",
    "# Adding 1 to the number of hidden layers in order to include the output layer\n",
    "\n",
    "for layer in range(num_hidden_layers + 1):\n",
    "    \n",
    "    # determine name of the layer & num_nodes in this layer\n",
    "    if layer == num_hidden_layers:\n",
    "        # it's the last layer we iterate - output layer\n",
    "        layer_name = 'output'\n",
    "        num_nodes = num_nodes_output\n",
    "    else:\n",
    "        layer_name = 'node_{}'.format(layer + 1)  # naming\n",
    "        num_nodes = m[layer]\n",
    "        \n",
    "    # initialize weights and biases associated with each node in the current layer\n",
    "    network[layer_name] = {}        # store all weights and biases for this layer\n",
    "    for node in range(num_nodes):\n",
    "        node_name = 'node_{}'.format(node + 1)\n",
    "        network[layer_name][node_name] = {\n",
    "            'weights': np.around(np.random.uniform(size=num_nodes_previous), decimals = 2),\n",
    "            'biases': np.around(np.random.uniform(size=1), decimals = 2)\n",
    "        }\n",
    "    \n",
    "    # Update layer nodes to the next one\n",
    "    num_nodes_previous = num_nodes\n",
    "    \n",
    "print(network)"
   ]
  },
  {
   "cell_type": "code",
   "execution_count": null,
   "id": "20f6cd2a",
   "metadata": {},
   "outputs": [],
   "source": []
  }
 ],
 "metadata": {
  "kernelspec": {
   "display_name": "Python 3 (ipykernel)",
   "language": "python",
   "name": "python3"
  }
 },
 "nbformat": 4,
 "nbformat_minor": 5
}
